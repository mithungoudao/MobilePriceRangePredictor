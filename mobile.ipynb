{
 "cells": [
  {
   "cell_type": "code",
   "execution_count": 1,
   "id": "4bb5a1e6-1d96-4738-8b8d-b2c164edfcc2",
   "metadata": {
    "execution": {
     "iopub.execute_input": "2024-11-03T18:02:38.971202Z",
     "iopub.status.busy": "2024-11-03T18:02:38.970766Z",
     "iopub.status.idle": "2024-11-03T18:02:42.344949Z",
     "shell.execute_reply": "2024-11-03T18:02:42.344434Z"
    }
   },
   "outputs": [
    {
     "name": "stderr",
     "output_type": "stream",
     "text": [
      "/tmp/ipykernel_39138/2215105231.py:49: FutureWarning: A value is trying to be set on a copy of a DataFrame or Series through chained assignment using an inplace method.\n",
      "The behavior will change in pandas 3.0. This inplace method will never work because the intermediate object on which we are setting values always behaves as a copy.\n",
      "\n",
      "For example, when doing 'df[col].method(value, inplace=True)', try using 'df.method({col: value}, inplace=True)' or df[col] = df[col].method(value) instead, to perform the operation inplace on the original object.\n",
      "\n",
      "\n",
      "  combined_df[col].fillna(mean_value, inplace=True)\n"
     ]
    },
    {
     "name": "stdout",
     "output_type": "stream",
     "text": [
      "Random Forest Test Score: 0.8731\n",
      "Bagging Test Score: 0.8682\n"
     ]
    },
    {
     "name": "stdout",
     "output_type": "stream",
     "text": [
      "Gradient Boosting Test Score: 0.8806\n",
      "SVC Test Score: 0.9453\n"
     ]
    }
   ],
   "source": [
    "# Importing Libraries\n",
    "import pandas as pd\n",
    "import numpy as np\n",
    "from sklearn.preprocessing import MinMaxScaler\n",
    "from sklearn.ensemble import RandomForestClassifier, BaggingClassifier, GradientBoostingClassifier\n",
    "from sklearn.svm import SVC\n",
    "from sklearn.model_selection import train_test_split\n",
    "import joblib\n",
    "import os\n",
    "\n",
    "# Define the uploads directory\n",
    "uploads_dir = 'uploads'\n",
    "\n",
    "# Find the first CSV file in the uploads directory\n",
    "uploaded_file_name = None\n",
    "for file in os.listdir(uploads_dir):\n",
    "    if file.endswith('.csv'):\n",
    "        uploaded_file_name = file\n",
    "        break  # Stop after finding the first CSV file\n",
    "\n",
    "if uploaded_file_name is None:\n",
    "    print(\"No CSV file found in the uploads directory.\")\n",
    "else:\n",
    "    # Load the uploaded CSV file\n",
    "    uploaded_file_path = os.path.join(uploads_dir, uploaded_file_name)\n",
    "    try:\n",
    "        new_data_df = pd.read_csv(uploaded_file_path)\n",
    "    except Exception as e:\n",
    "        print(f\"Error reading {uploaded_file_path}: {e}\")\n",
    "        new_data_df = pd.DataFrame()  # Create an empty DataFrame if there is an error\n",
    "\n",
    "    # Load the existing Raw_Data.csv file\n",
    "    raw_data_path = 'Raw_Data.csv'\n",
    "    if os.path.exists(raw_data_path):\n",
    "        raw_data_df = pd.read_csv(raw_data_path)\n",
    "    else:\n",
    "        print(\"Raw_Data.csv not found. Creating a new one.\")\n",
    "        raw_data_df = pd.DataFrame()  # Create an empty DataFrame if Raw_Data.csv doesn't exist\n",
    "\n",
    "    # Merge the two DataFrames\n",
    "    combined_df = pd.concat([raw_data_df, new_data_df], ignore_index=True)\n",
    "\n",
    "    # Save the combined DataFrame as Raw_Data.csv (replacing it)\n",
    "    combined_df.to_csv(raw_data_path, index=False)\n",
    "\n",
    "    # Fill missing values with column mean\n",
    "    for col in combined_df.select_dtypes(include=[np.number]).columns:\n",
    "        mean_value = combined_df[col].mean()\n",
    "        combined_df[col].fillna(mean_value, inplace=True)\n",
    "\n",
    "    # Drop duplicate records\n",
    "    combined_df = combined_df.drop_duplicates(keep='first')\n",
    "\n",
    "    # Outlier Detection and Treatment using IQR\n",
    "    def remove_outliers(df, column):\n",
    "        Q1 = df[column].quantile(0.25)\n",
    "        Q3 = df[column].quantile(0.75)\n",
    "        IQR = Q3 - Q1\n",
    "        lower_bound = Q1 - 1.5 * IQR\n",
    "        upper_bound = Q3 + 1.5 * IQR\n",
    "        df[column] = np.where(df[column] < lower_bound, lower_bound, df[column])\n",
    "        df[column] = np.where(df[column] > upper_bound, upper_bound, df[column])\n",
    "\n",
    "    # Removing outliers for all numerical columns\n",
    "    for col in combined_df.select_dtypes(include=[np.number]).columns:\n",
    "        remove_outliers(combined_df, col)\n",
    "\n",
    "    # Save the processed data for visualization and model building\n",
    "    combined_df.to_csv('Cleaned_Data.csv', index=False)\n",
    "\n",
    "    # Splitting Data into Features and Target\n",
    "    X = combined_df.drop('price_range', axis=1)  # Ensure 'price_range' is the target variable\n",
    "    y = combined_df['price_range']\n",
    "    X_train, X_test, y_train, y_test = train_test_split(X, y, test_size=0.2, random_state=42)\n",
    "\n",
    "    # Evaluate models\n",
    "    models = {\n",
    "        \"Random Forest\": RandomForestClassifier(),\n",
    "        \"Bagging\": BaggingClassifier(),\n",
    "        \"Gradient Boosting\": GradientBoostingClassifier(),\n",
    "        \"SVC\": SVC()\n",
    "    }\n",
    "\n",
    "    best_model = None\n",
    "    best_score = 0\n",
    "\n",
    "    for name, model in models.items():\n",
    "        model.fit(X_train, y_train)\n",
    "        score = model.score(X_test, y_test)\n",
    "        print(f\"{name} Test Score: {score:.4f}\")\n",
    "        if score > best_score:\n",
    "            best_score = score\n",
    "            best_model = model\n",
    "\n",
    "    # Export the best model\n",
    "    joblib.dump(best_model, 'model.pkl')"
   ]
  },
  {
   "cell_type": "code",
   "execution_count": 2,
   "id": "1f5e2f5c",
   "metadata": {
    "execution": {
     "iopub.execute_input": "2024-11-03T18:02:42.346967Z",
     "iopub.status.busy": "2024-11-03T18:02:42.346616Z",
     "iopub.status.idle": "2024-11-03T18:02:42.349282Z",
     "shell.execute_reply": "2024-11-03T18:02:42.348869Z"
    }
   },
   "outputs": [],
   "source": [
    "# # Generate random test data\n",
    "# new_data = {\n",
    "#     'battery_power': [850],\n",
    "#     'blue': [1],\n",
    "#     'clock_speed': [2.0],\n",
    "#     'dual_sim': [1],\n",
    "#     'fc': [2.0],\n",
    "#     'four_g': [1],\n",
    "#     'int_memory': [16],\n",
    "#     'm_dep': [0.6],\n",
    "#     'mobile_wt': [150],\n",
    "#     'n_cores': [8],\n",
    "#     'pc': [2],\n",
    "#     'px_height': [720],\n",
    "#     'px_width': [1280],\n",
    "#     'ram': [2048],\n",
    "#     'sc_h': [6.0],\n",
    "#     'sc_w': [3.0],\n",
    "#     'talk_time': [20],\n",
    "#     'three_g': [1],\n",
    "#     'touch_screen': [1],\n",
    "#     'wifi': [1]\n",
    "# }\n",
    "\n",
    "# new_df = pd.DataFrame(new_data)\n",
    "\n",
    "# model = joblib.load('model.pkl')\n",
    "# price_range_prediction = model.predict(new_df).astype(int)\n",
    "\n",
    "# print(\"Predicted Price Range:\", price_range_prediction[0])"
   ]
  }
 ],
 "metadata": {
  "kernelspec": {
   "display_name": "Python 3",
   "language": "python",
   "name": "python3"
  },
  "language_info": {
   "codemirror_mode": {
    "name": "ipython",
    "version": 3
   },
   "file_extension": ".py",
   "mimetype": "text/x-python",
   "name": "python",
   "nbconvert_exporter": "python",
   "pygments_lexer": "ipython3",
   "version": "3.12.1"
  }
 },
 "nbformat": 4,
 "nbformat_minor": 5
}
